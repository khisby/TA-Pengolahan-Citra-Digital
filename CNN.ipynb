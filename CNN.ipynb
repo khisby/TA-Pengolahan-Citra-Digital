{
 "cells": [
  {
   "cell_type": "code",
   "execution_count": 1,
   "metadata": {},
   "outputs": [],
   "source": [
    "from mnist.loader import MNIST\n",
    "import matplotlib.pylab as plt\n",
    "from sklearn.preprocessing import OneHotEncoder\n",
    "import numpy as np"
   ]
  },
  {
   "cell_type": "code",
   "execution_count": 2,
   "metadata": {},
   "outputs": [],
   "source": [
    "mndata = MNIST('data_files')\n",
    "mndata.gz = True\n",
    "images, labels = mndata.load_training()\n",
    "train_x = np.array(images)\n",
    "train_y = np.array(labels)\n",
    "\n",
    "images, labels = mndata.load_testing()\n",
    "test_x = np.array(images)\n",
    "test_y = np.array(labels)"
   ]
  },
  {
   "cell_type": "code",
   "execution_count": 3,
   "metadata": {},
   "outputs": [
    {
     "data": {
      "text/plain": [
       "array([5, 0, 4, ..., 5, 6, 8], dtype=uint8)"
      ]
     },
     "execution_count": 3,
     "metadata": {},
     "output_type": "execute_result"
    }
   ],
   "source": [
    "train_y"
   ]
  },
  {
   "cell_type": "code",
   "execution_count": 4,
   "metadata": {},
   "outputs": [],
   "source": [
    "train_x = train_x / 255\n",
    "test_x = test_x / 255\n",
    "\n",
    "enc = OneHotEncoder(sparse=False, categories='auto')\n",
    "train_y = enc.fit_transform(train_y.reshape(len(train_y), -1))\n",
    "test_y = enc.fit_transform(test_y.reshape(len(test_y), -1))"
   ]
  },
  {
   "cell_type": "code",
   "execution_count": 5,
   "metadata": {},
   "outputs": [
    {
     "data": {
      "text/plain": [
       "(10000, 10)"
      ]
     },
     "execution_count": 5,
     "metadata": {},
     "output_type": "execute_result"
    }
   ],
   "source": [
    "test_y.shape"
   ]
  },
  {
   "cell_type": "code",
   "execution_count": 6,
   "metadata": {},
   "outputs": [
    {
     "name": "stdout",
     "output_type": "stream",
     "text": [
      "Ukuran Train X : (60000, 784)\n",
      "Ukuran Test X : (10000, 784)\n"
     ]
    }
   ],
   "source": [
    "print(\"Ukuran Train X : \" + str(train_x.shape))\n",
    "print(\"Ukuran Test X : \" + str(test_x.shape))"
   ]
  },
  {
   "cell_type": "code",
   "execution_count": 7,
   "metadata": {},
   "outputs": [
    {
     "data": {
      "text/plain": [
       "(784, 60000)"
      ]
     },
     "execution_count": 7,
     "metadata": {},
     "output_type": "execute_result"
    }
   ],
   "source": [
    "train_x.T.shape"
   ]
  },
  {
   "cell_type": "code",
   "execution_count": 8,
   "metadata": {},
   "outputs": [
    {
     "data": {
      "text/plain": [
       "<function matplotlib.pyplot.show(*args, **kw)>"
      ]
     },
     "execution_count": 8,
     "metadata": {},
     "output_type": "execute_result"
    },
    {
     "data": {
      "image/png": "[encoded data removed]",
      "text/plain": [
       "<Figure size 432x288 with 1 Axes>"
      ]
     },
     "metadata": {
      "needs_background": "light"
     },
     "output_type": "display_data"
    }
   ],
   "source": [
    "plt.imshow(train_x[0].reshape((28,28)))\n",
    "plt.show"
   ]
  },
  {
   "cell_type": "code",
   "execution_count": 9,
   "metadata": {},
   "outputs": [
    {
     "data": {
      "image/png": "[encoded data removed]",
      "text/plain": [
       "<Figure size 432x288 with 1 Axes>"
      ]
     },
     "metadata": {
      "needs_background": "light"
     },
     "output_type": "display_data"
    },
    {
     "data": {
      "image/png": "[encoded data removed]",
      "text/plain": [
       "<Figure size 432x288 with 1 Axes>"
      ]
     },
     "metadata": {
      "needs_background": "light"
     },
     "output_type": "display_data"
    }
   ],
   "source": [
    "saring = np.zeros((2,3,3))\n",
    "saring[0, :, :] = np.array([[[-1, 0, 1],\n",
    "                                   [-1, 0, 1],\n",
    "                                   [-1, 0, 1]]])\n",
    "saring[1, :, :] = np.array([[[1,   1,  1],\n",
    "                                   [0,   0,  0],\n",
    "                                   [-1, -1, -1]]])\n",
    "plt.imshow(saring[0])\n",
    "plt.title(\"Filter Ke-1\")\n",
    "plt.show()\n",
    "\n",
    "plt.imshow(saring[1])\n",
    "plt.title(\"Filter Ke-2\")\n",
    "plt.show()"
   ]
  },
  {
   "cell_type": "code",
   "execution_count": 10,
   "metadata": {},
   "outputs": [],
   "source": [
    "def konvolusi(gambarInput):\n",
    "    #Add Padding 1x1 Shape menjadi 30x30 dari asalnya 28x28\n",
    "    gambar = gambarInput.reshape((28,28))\n",
    "    gambarHasil = np.zeros((28+2*1, 28+2*1),dtype=gambar.dtype)\n",
    "    gambarHasil[1:-1, 1:-1] = gambar\n",
    "\n",
    "\n",
    "    #Konvolusi\n",
    "    ukuranGambar = gambarHasil.shape[0]\n",
    "    ukuranFilter = saring.shape[1]\n",
    "    stridenya = 1\n",
    "    ukuranHasilPerkalian = int((ukuranGambar - ukuranFilter)/stridenya)+1 \n",
    "    hasilPerkalian = np.zeros((ukuranHasilPerkalian,ukuranHasilPerkalian))\n",
    "\n",
    "    posisiYHasil = 0\n",
    "    posisiYSekarang = 0\n",
    "    while posisiYSekarang + ukuranFilter <= ukuranGambar:\n",
    "        posisiXHasil = 0\n",
    "        posisiXSekarang = 0\n",
    "        while posisiXSekarang + ukuranFilter <= ukuranGambar:\n",
    "            hasilPerkalianSaring1 = saring[0] * gambarHasil[posisiYSekarang:posisiYSekarang+ukuranFilter, posisiXSekarang:posisiXSekarang+ukuranFilter]\n",
    "            hasilPerkalianSaring2 = saring[1] * gambarHasil[posisiYSekarang:posisiYSekarang+ukuranFilter, posisiXSekarang:posisiXSekarang+ukuranFilter]\n",
    "            hasilPenjumlahanPerkalian = np.sum(hasilPerkalianSaring1) + np.sum(hasilPerkalianSaring1)\n",
    "            \n",
    "            #Relu jika kurang dari 0 jadikan 0\n",
    "            if hasilPenjumlahanPerkalian < 0:\n",
    "                hasilPerkalian[posisiYHasil, posisiXHasil] = 0\n",
    "            else:\n",
    "                hasilPerkalian[posisiYHasil, posisiXHasil] = hasilPenjumlahanPerkalian\n",
    "                \n",
    "            posisiXSekarang += stridenya\n",
    "            posisiXHasil += 1\n",
    "        posisiYSekarang += stridenya\n",
    "        posisiYHasil += 1\n",
    "\n",
    "\n",
    "    #Max Pooling\n",
    "    stridenyaDownSampling = 2\n",
    "    ukuranFilterDownSampling = 2\n",
    "    ukuranGambarKonvolusi = hasilPerkalian.shape[0]\n",
    "    ukuranHasilDownSampling = int((ukuranGambarKonvolusi - ukuranFilterDownSampling)/stridenyaDownSampling)+1 \n",
    "    downSampling = np.zeros((ukuranHasilDownSampling,ukuranHasilDownSampling))\n",
    "\n",
    "\n",
    "    posisiYHasil = 0\n",
    "    posisiYSekarang = 0\n",
    "    while posisiYSekarang + ukuranFilterDownSampling <= ukuranGambarKonvolusi:\n",
    "        posisiXHasil = 0\n",
    "        posisiXSekarang = 0\n",
    "        while posisiXSekarang + ukuranFilterDownSampling <= ukuranGambarKonvolusi:\n",
    "            downSampling[posisiYHasil, posisiXHasil] = np.max(hasilPerkalian[posisiYSekarang:posisiYSekarang+ukuranFilterDownSampling, posisiXSekarang:posisiXSekarang+ukuranFilterDownSampling])\n",
    "            posisiXSekarang += stridenyaDownSampling\n",
    "            posisiXHasil += 1\n",
    "        posisiYSekarang += stridenyaDownSampling\n",
    "        posisiYHasil += 1\n",
    "    \n",
    "    return np.array(downSampling).flatten()\n"
   ]
  },
  {
   "cell_type": "code",
   "execution_count": 11,
   "metadata": {},
   "outputs": [],
   "source": [
    "def printProgressBar (iteration, total, prefix = '', suffix = '', decimals = 1, length = 101, fill = '█', printEnd = \"\\r\"):\n",
    "    percent = (\"{0:.\" + str(decimals) + \"f}\").format(100 * (iteration / float(total)))\n",
    "    filledLength = int(length * iteration // total)\n",
    "    bar = fill * filledLength + '-' * (length - filledLength)\n",
    "    print('\\r%s |%s| %s%% %s' % (prefix, bar, percent, suffix), end = printEnd)\n",
    "    if iteration == total: \n",
    "        print()    "
   ]
  },
  {
   "cell_type": "code",
   "execution_count": 12,
   "metadata": {},
   "outputs": [
    {
     "name": "stdout",
     "output_type": "stream",
     "text": [
      "Konvolusi Test: |███████████████████████████████████████████████████████████████████████████████-| 100.0% (10000/10000))\r"
     ]
    }
   ],
   "source": [
    "hasilKonvolusiTrain = []\n",
    "awal = 0\n",
    "akhir = len(train_x)\n",
    "for i in train_x:\n",
    "    hasilKonvolusiTrain.append(konvolusi(i))\n",
    "    awal +=1\n",
    "    printProgressBar(awal, akhir, prefix = 'Konvolusi Train:', suffix = '(' + str(awal) + '/' + str(akhir) + ')', length = 80)\n",
    "\n",
    "hasilKonvolusiTest = []\n",
    "awal = 0\n",
    "akhir = len(test_x)\n",
    "for i in test_x:\n",
    "    hasilKonvolusiTest.append(konvolusi(i))\n",
    "    awal +=1\n",
    "    printProgressBar(awal, akhir, prefix = 'Konvolusi Test:', suffix = '(' + str(awal) + '/' + str(akhir) + ')', length = 80)\n",
    "    "
   ]
  },
  {
   "cell_type": "code",
   "execution_count": 20,
   "metadata": {},
   "outputs": [],
   "source": [
    "def akurasi(X, Y):\n",
    "    #Propagasi Maju\n",
    "    #buat variabel untuk menampung perhitungan perkalian\n",
    "    simpan = {}\n",
    "    \n",
    "    #buat transpose matrix data\n",
    "    A = X.T\n",
    "    #iterasi perhitungan silang data dengan bobot dan bias\n",
    "    for jj in range(L-1):\n",
    "        Z = parameter[\"W\" + str(jj+1)].dot(A) + parameter[\"b\" + str(jj + 1)]\n",
    "        #Sigmoid\n",
    "        A = 1 / (1 + np.exp(-Z))\n",
    "        simpan[\"A\" + str(jj + 1)] = A\n",
    "        simpan[\"W\" + str(jj + 1)] = parameter[\"W\" + str(jj + 1)]\n",
    "        simpan[\"Z\" + str(jj + 1)] = Z\n",
    "    \n",
    "    \n",
    "    Z = parameter[\"W\" + str(L)].dot(A) + parameter[\"b\" + str(L)]\n",
    "    #Softmax\n",
    "    exponenZ = np.exp(Z - np.max(Z))\n",
    "    A = exponenZ / exponenZ.sum(axis=0, keepdims=True)\n",
    "    simpan[\"A\" + str(L)] = A\n",
    "    simpan[\"W\" + str(L)] = parameter[\"W\" + str(L)]\n",
    "    simpan[\"Z\" + str(L)] = Z\n",
    "    \n",
    "    y_hat = np.argmax(A, axis=0)\n",
    "    Y = np.argmax(Y, axis=1)\n",
    "    akurasi = (y_hat == Y).mean()\n",
    "    return [akurasi * 100]\n",
    "\n",
    "def prediksi(X):\n",
    "    #Propagasi Maju\n",
    "    #buat variabel untuk menampung perhitungan perkalian\n",
    "    simpan = {}\n",
    "    \n",
    "    #buat transpose matrix data\n",
    "    A = X.T\n",
    "    #iterasi perhitungan silang data dengan bobot dan bias\n",
    "    for jj in range(L-1):\n",
    "        Z = parameter[\"W\" + str(jj+1)].dot(A) + parameter[\"b\" + str(jj + 1)]\n",
    "        #Sigmoid\n",
    "        A = 1 / (1 + np.exp(-Z))\n",
    "        simpan[\"A\" + str(jj + 1)] = A\n",
    "        simpan[\"W\" + str(jj + 1)] = parameter[\"W\" + str(jj + 1)]\n",
    "        simpan[\"Z\" + str(jj + 1)] = Z\n",
    "    \n",
    "    \n",
    "    Z = parameter[\"W\" + str(L)].dot(A) + parameter[\"b\" + str(L)]\n",
    "    #Softmax\n",
    "    exponenZ = np.exp(Z - np.max(Z))\n",
    "    A = exponenZ / exponenZ.sum(axis=0, keepdims=True)\n",
    "    simpan[\"A\" + str(L)] = A\n",
    "    simpan[\"W\" + str(L)] = parameter[\"W\" + str(L)]\n",
    "    simpan[\"Z\" + str(L)] = Z\n",
    "\n",
    "    y_hat = np.argmax(A, axis=0)\n",
    "    return y_hat"
   ]
  },
  {
   "cell_type": "code",
   "execution_count": 150,
   "metadata": {},
   "outputs": [],
   "source": [
    "#Pakek Konvolusi\n",
    "hasilKonvolusiTrain = np.array(hasilKonvolusiTrain)\n",
    "hasilKonvolusiTest = np.array(hasilKonvolusiTest)\n",
    "\n",
    "#Ga pakek Konvolusi\n",
    "# hasilKonvolusiTrain = train_x\n",
    "# hasilKonvolusiTest = test_x"
   ]
  },
  {
   "cell_type": "code",
   "execution_count": 151,
   "metadata": {},
   "outputs": [],
   "source": [
    "#Inisialisasi Variabel Parameter\n",
    "#Ukuran Perceptron yang terakhir harus sama dengan jumlah class labelnya\n",
    "ukuran_layer = [40,10]\n",
    "parameter = {}\n",
    "L = len(ukuran_layer)\n",
    "n = hasilKonvolusiTrain.shape[1]\n",
    "cost = []\n",
    "lr = 0.1\n",
    "iterasi = 200"
   ]
  },
  {
   "cell_type": "code",
   "execution_count": 152,
   "metadata": {},
   "outputs": [],
   "source": [
    "#Inisialisasi nilai bobot dan bias\n",
    "np.random.seed(1)\n",
    "ukuran_layer.insert(0, hasilKonvolusiTrain.shape[1])\n",
    "for l in range(1, len(ukuran_layer)):\n",
    "    np.random.seed(1)\n",
    "    parameter[\"W\" + str(l)] = np.random.randn(ukuran_layer[l], ukuran_layer[l-1]) / np.sqrt(ukuran_layer[l-1])\n",
    "    parameter[\"b\" + str(l)] = np.zeros((ukuran_layer[l], 1))"
   ]
  },
  {
   "cell_type": "code",
   "execution_count": 153,
   "metadata": {
    "scrolled": true
   },
   "outputs": [
    {
     "name": "stdout",
     "output_type": "stream",
     "text": [
      "( 0 / 200 ) loss :  0.23805253388640743 Train Accuracy :  [16.496666666666666]\n",
      "Progress: |██████████████████████████████████████████████████| 100.0% Complete\n",
      "( 100 / 200 ) loss :  0.03666456327070057 Train Accuracy :  [90.83333333333333]\n",
      "Progress: |█████████████████████████████████████████████████-| 99.0% Complete\r"
     ]
    }
   ],
   "source": [
    "#Iterasi Pelatihan\n",
    "costs = []\n",
    "costtest = []\n",
    "ulangAwal = 0\n",
    "ulangAkhir = 100\n",
    "for i in range(iterasi):\n",
    "    #Propagasi Maju\n",
    "    #buat variabel untuk menampung perhitungan perkalian\n",
    "    simpan = {}\n",
    "    \n",
    "    #buat transpose matrix data\n",
    "    A = hasilKonvolusiTrain.T\n",
    "    #iterasi perhitungan silang data dengan bobot dan bias\n",
    "    for jj in range(L-1):\n",
    "        #Perperceptron di kali dengan data di train ditambah dengan bias\n",
    "        Z = parameter[\"W\" + str(jj+1)].dot(A) + parameter[\"b\" + str(jj + 1)]\n",
    "        #Sigmoid\n",
    "        A = 1 / (1 + np.exp(-Z))\n",
    "        simpan[\"A\" + str(jj + 1)] = A\n",
    "        simpan[\"W\" + str(jj + 1)] = parameter[\"W\" + str(jj + 1)]\n",
    "        simpan[\"Z\" + str(jj + 1)] = Z\n",
    "    \n",
    "    \n",
    "    Z = parameter[\"W\" + str(L)].dot(A) + parameter[\"b\" + str(L)]\n",
    "    #Softmax\n",
    "    exponenZ = np.exp(Z - np.max(Z))\n",
    "    A = exponenZ / exponenZ.sum(axis=0, keepdims=True)\n",
    "    simpan[\"A\" + str(L)] = A\n",
    "    simpan[\"W\" + str(L)] = parameter[\"W\" + str(L)]\n",
    "    simpan[\"Z\" + str(L)] = Z\n",
    "\n",
    "    \n",
    "    #Hitung Error Cost\n",
    "    cost = -np.mean(train_y * np.log(A.T))\n",
    "    \n",
    "    #Propagasi balik\n",
    "    derivative = {}\n",
    "    simpan[\"A0\"] = hasilKonvolusiTrain.T\n",
    "    A = simpan[\"A\" + str(L)]\n",
    "    dZ = A - train_y.T\n",
    "\n",
    "    dW = dZ.dot(simpan[\"A\" + str(L - 1)].T) / n\n",
    "    db = np.sum(dZ, axis=1, keepdims=True) / n\n",
    "    dAPrev = simpan[\"W\" + str(L)].T.dot(dZ)\n",
    "    \n",
    "    derivative[\"dW\" + str(L)] = dW\n",
    "    derivative[\"db\" + str(L)] = db\n",
    "    \n",
    "    for j in range(L - 1, 0, -1):\n",
    "        s = 1 / (1 + np.exp(simpan[\"Z\" + str(j)]))\n",
    "        dZ = dAPrev * (s * (1 - s))\n",
    "        dW = 1. / n * dZ.dot(simpan[\"A\" + str(j -1)].T)\n",
    "        db = 1. / n * np.sum(dZ, axis=1, keepdims=True)\n",
    "        \n",
    "        if j > 1:\n",
    "            dAPrev = simpan[\"W\" + str(j)].T.dot(dZ)\n",
    "        \n",
    "        derivative[\"dW\" + str(j)] = dW\n",
    "        derivative[\"db\" + str(j)] = db\n",
    "    \n",
    "    \n",
    "    #Update bobot\n",
    "    for jj in range(1, L + 1):\n",
    "        parameter[\"W\" + str(jj)] = parameter[\"W\" + str(jj)] - lr * derivative[\"dW\" + str(jj)]\n",
    "        parameter[\"b\" + str(jj)] = parameter[\"b\" + str(jj)] - lr * derivative[\"db\" + str(jj)]\n",
    "        \n",
    "    \n",
    "    AA = hasilKonvolusiTest.T\n",
    "    \n",
    "    for jj in range(L-1):\n",
    "        ZZ = parameter[\"W\" + str(jj+1)].dot(AA) + parameter[\"b\" + str(jj + 1)]\n",
    "        AA = 1 / (1 + np.exp(-ZZ))\n",
    "        \n",
    "    ZZ = parameter[\"W\" + str(L)].dot(AA) + parameter[\"b\" + str(L)]\n",
    "    exponenZZ = np.exp(ZZ - np.max(ZZ))\n",
    "    AA = exponenZZ / exponenZZ.sum(axis=0, keepdims=True)\n",
    "\n",
    "    costt = -np.mean(test_y * np.log(AA.T))\n",
    "    \n",
    "    ulangAwal = ulangAwal + 1\n",
    "    \n",
    "    printProgressBar(ulangAwal, ulangAkhir, prefix = 'Progress:', suffix = 'Complete', length = 50)\n",
    "    \n",
    "    \n",
    "    if i % 100 == 0:\n",
    "        ulangAwal = 0\n",
    "        ulangAkhir = 100\n",
    "        print( \"(\",(i),\"/\",iterasi,\")\", \"loss : \", cost, \"Train Accuracy : \", akurasi(hasilKonvolusiTrain, train_y))\n",
    "        \n",
    "    if i % 10 == 0:\n",
    "        costs.append(cost)\n",
    "        costtest.append(costt)\n",
    "        "
   ]
  },
  {
   "cell_type": "code",
   "execution_count": 156,
   "metadata": {
    "scrolled": true
   },
   "outputs": [
    {
     "name": "stdout",
     "output_type": "stream",
     "text": [
      "Train Accuracy: [93.90666666666667]\n",
      "Test Accuracy: [93.56]\n",
      "[0.23805253388640743, 0.22508826891442082, 0.17693003140262153, 0.08391426375087177, 0.05582426635445927, 0.0548408288590984, 0.04759576100846453, 0.03604544834854702, 0.03152924887596616, 0.03137087160845313, 0.03666456327070057, 0.02674798969773411, 0.02547515924154067, 0.024509375455118915, 0.024425076806046456, 0.04880182522735589, 0.03451697737240144, 0.023282804026530275, 0.0222614471313673, 0.021561503378866698]\n",
      "=====================\n",
      "[0.4155636535352861, 0.2317300298840399, 0.15514684116721786, 0.0801718227387935, 0.05295750328276621, 0.05646543712962984, 0.045985423469554025, 0.03425751644446912, 0.03045408255112652, 0.031951339845287405, 0.03082350132213927, 0.02615726558165037, 0.025053928290928024, 0.0242493475354256, 0.024446586985788527, 0.03912369696488625, 0.029622444027380998, 0.023306487873135835, 0.022428524466840457, 0.021799239127869113]\n"
     ]
    },
    {
     "data": {
      "image/png": "[encoded data removed]",
      "text/plain": [
       "<Figure size 432x288 with 1 Axes>"
      ]
     },
     "metadata": {
      "needs_background": "light"
     },
     "output_type": "display_data"
    }
   ],
   "source": [
    "trainingnya = akurasi(hasilKonvolusiTrain, train_y)\n",
    "testingnya = akurasi(hasilKonvolusiTest, test_y)\n",
    "print(\"Train Accuracy:\", trainingnya)\n",
    "print(\"Test Accuracy:\", testingnya)\n",
    "\n",
    "print(costs)\n",
    "print(\"=====================\")\n",
    "print(costtest)\n",
    "\n",
    "plt.figure()\n",
    "plt.plot(np.arange(len(costs)), costs, 'g', label='Training accuracy')\n",
    "plt.plot(np.arange(len(costtest)), costtest, 'b', label='Test accuracy')\n",
    "plt.title('Training and Validation loss')\n",
    "plt.xlabel(\"epochs\")\n",
    "plt.ylabel(\"cost\")\n",
    "plt.legend()\n",
    "plt.show()"
   ]
  },
  {
   "cell_type": "code",
   "execution_count": 219,
   "metadata": {},
   "outputs": [
    {
     "name": "stdout",
     "output_type": "stream",
     "text": [
      "Hasil prediksi :  3\n",
      "Jawaban dari test_y :  [0. 0. 0. 0. 0. 1. 0. 0. 0. 0.]\n"
     ]
    },
    {
     "data": {
      "image/png": "[encoded data removed]",
      "text/plain": [
       "<Figure size 432x288 with 1 Axes>"
      ]
     },
     "metadata": {
      "needs_background": "light"
     },
     "output_type": "display_data"
    }
   ],
   "source": [
    "from random import randrange\n",
    "index = randrange(0, 10000)\n",
    "hasil = prediksi(hasilKonvolusiTest)\n",
    "\n",
    "print(\"Hasil prediksi : \" , hasil[index])\n",
    "print(\"Jawaban dari test_y : \" , test_y[index])\n",
    "plt.imshow(test_x[index].reshape((28,28)))\n",
    "plt.show()"
   ]
  },
  {
   "cell_type": "code",
   "execution_count": null,
   "metadata": {},
   "outputs": [],
   "source": []
  },
  {
   "cell_type": "code",
   "execution_count": null,
   "metadata": {},
   "outputs": [],
   "source": []
  },
  {
   "cell_type": "code",
   "execution_count": null,
   "metadata": {},
   "outputs": [],
   "source": []
  },
  {
   "cell_type": "code",
   "execution_count": null,
   "metadata": {},
   "outputs": [],
   "source": []
  },
  {
   "cell_type": "code",
   "execution_count": null,
   "metadata": {},
   "outputs": [],
   "source": []
  },
  {
   "cell_type": "code",
   "execution_count": null,
   "metadata": {},
   "outputs": [],
   "source": []
  },
  {
   "cell_type": "code",
   "execution_count": null,
   "metadata": {},
   "outputs": [],
   "source": []
  }
 ],
 "metadata": {
  "kernelspec": {
   "display_name": "Python 3",
   "language": "python",
   "name": "python3"
  },
  "language_info": {
   "codemirror_mode": {
    "name": "ipython",
    "version": 3
   },
   "file_extension": ".py",
   "mimetype": "text/x-python",
   "name": "python",
   "nbconvert_exporter": "python",
   "pygments_lexer": "ipython3",
   "version": "3.7.7"
  }
 },
 "nbformat": 4,
 "nbformat_minor": 2
}
