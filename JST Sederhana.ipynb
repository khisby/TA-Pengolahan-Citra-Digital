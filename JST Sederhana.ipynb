{
 "cells": [
  {
   "cell_type": "code",
   "execution_count": 13,
   "metadata": {},
   "outputs": [],
   "source": [
    "from mnist.loader import MNIST\n",
    "import matplotlib.pylab as plt\n",
    "from sklearn.preprocessing import OneHotEncoder\n",
    "import numpy as np"
   ]
  },
  {
   "cell_type": "code",
   "execution_count": 14,
   "metadata": {},
   "outputs": [],
   "source": [
    "mndata = MNIST('data_files')\n",
    "mndata.gz = True\n",
    "images, labels = mndata.load_training()\n",
    "train_x = np.array(images)\n",
    "train_y = np.array(labels)\n",
    "\n",
    "images, labels = mndata.load_testing()\n",
    "test_x = np.array(images)\n",
    "test_y = np.array(labels)"
   ]
  },
  {
   "cell_type": "code",
   "execution_count": 15,
   "metadata": {},
   "outputs": [
    {
     "data": {
      "text/plain": [
       "array([5, 0, 4, ..., 5, 6, 8], dtype=uint8)"
      ]
     },
     "execution_count": 15,
     "metadata": {},
     "output_type": "execute_result"
    }
   ],
   "source": [
    "train_y"
   ]
  },
  {
   "cell_type": "code",
   "execution_count": 16,
   "metadata": {},
   "outputs": [],
   "source": [
    "train_x = train_x / 255\n",
    "test_x = test_x / 255\n",
    "\n",
    "enc = OneHotEncoder(sparse=False, categories='auto')\n",
    "train_y = enc.fit_transform(train_y.reshape(len(train_y), -1))\n",
    "test_y = enc.transform(test_y.reshape(len(test_y), -1))"
   ]
  },
  {
   "cell_type": "code",
   "execution_count": 17,
   "metadata": {},
   "outputs": [
    {
     "data": {
      "text/plain": [
       "(10000, 10)"
      ]
     },
     "execution_count": 17,
     "metadata": {},
     "output_type": "execute_result"
    }
   ],
   "source": [
    "test_y.shape"
   ]
  },
  {
   "cell_type": "code",
   "execution_count": 18,
   "metadata": {},
   "outputs": [
    {
     "name": "stdout",
     "output_type": "stream",
     "text": [
      "Ukuran Train X : (60000, 784)\n",
      "Ukuran Test X : (10000, 784)\n"
     ]
    }
   ],
   "source": [
    "print(\"Ukuran Train X : \" + str(train_x.shape))\n",
    "print(\"Ukuran Test X : \" + str(test_x.shape))"
   ]
  },
  {
   "cell_type": "code",
   "execution_count": 19,
   "metadata": {},
   "outputs": [],
   "source": [
    "#Inisialisasi Variabel Parameter\n",
    "ukuran_layer = [15,10]\n",
    "parameter = {}\n",
    "L = len(ukuran_layer)\n",
    "n = train_x.shape[1]\n",
    "cost = []\n",
    "lr = 0.1\n",
    "iterasi = 200"
   ]
  },
  {
   "cell_type": "code",
   "execution_count": 20,
   "metadata": {},
   "outputs": [],
   "source": [
    "#Inisialisasi nilai bobot dan bias\n",
    "np.random.seed(1)\n",
    "ukuran_layer.insert(0, train_x.shape[1])\n",
    "for l in range(1, len(ukuran_layer)):\n",
    "    np.random.seed(1)\n",
    "    parameter[\"W\" + str(l)] = np.random.randn(ukuran_layer[l], ukuran_layer[l-1]) / np.sqrt(ukuran_layer[l-1])\n",
    "    parameter[\"b\" + str(l)] = np.zeros((ukuran_layer[l], 1))"
   ]
  },
  {
   "cell_type": "code",
   "execution_count": 21,
   "metadata": {},
   "outputs": [],
   "source": [
    "def akurasi(X, Y):\n",
    "    #Propagasi Maju\n",
    "    #buat variabel untuk menampung perhitungan perkalian\n",
    "    simpan = {}\n",
    "    \n",
    "    #buat transpose matrix data\n",
    "    A = X.T\n",
    "    #iterasi perhitungan silang data dengan bobot dan bias\n",
    "    for jj in range(L-1):\n",
    "        Z = parameter[\"W\" + str(jj+1)].dot(A) + parameter[\"b\" + str(jj + 1)]\n",
    "        #Sigmoid\n",
    "        A = 1 / (1 + np.exp(-Z))\n",
    "        simpan[\"A\" + str(jj + 1)] = A\n",
    "        simpan[\"W\" + str(jj + 1)] = parameter[\"W\" + str(jj + 1)]\n",
    "        simpan[\"Z\" + str(jj + 1)] = Z\n",
    "    \n",
    "    \n",
    "    Z = parameter[\"W\" + str(L)].dot(A) + parameter[\"b\" + str(L)]\n",
    "    #Softmax\n",
    "    exponenZ = np.exp(Z - np.max(Z))\n",
    "    A = exponenZ / exponenZ.sum(axis=0, keepdims=True)\n",
    "    simpan[\"A\" + str(L)] = A\n",
    "    simpan[\"W\" + str(L)] = parameter[\"W\" + str(L)]\n",
    "    simpan[\"Z\" + str(L)] = Z\n",
    "\n",
    "    y_hat = np.argmax(A, axis=0)\n",
    "    Y = np.argmax(Y, axis=1)\n",
    "    akurasi = (y_hat == Y).mean()\n",
    "    return akurasi * 100\n",
    "\n",
    "def prediksi(X):\n",
    "    #Propagasi Maju\n",
    "    #buat variabel untuk menampung perhitungan perkalian\n",
    "    simpan = {}\n",
    "    \n",
    "    #buat transpose matrix data\n",
    "    A = X.T\n",
    "    #iterasi perhitungan silang data dengan bobot dan bias\n",
    "    for jj in range(L-1):\n",
    "        Z = parameter[\"W\" + str(jj+1)].dot(A) + parameter[\"b\" + str(jj + 1)]\n",
    "        #Sigmoid\n",
    "        A = 1 / (1 + np.exp(-Z))\n",
    "        simpan[\"A\" + str(jj + 1)] = A\n",
    "        simpan[\"W\" + str(jj + 1)] = parameter[\"W\" + str(jj + 1)]\n",
    "        simpan[\"Z\" + str(jj + 1)] = Z\n",
    "    \n",
    "    \n",
    "    Z = parameter[\"W\" + str(L)].dot(A) + parameter[\"b\" + str(L)]\n",
    "    #Softmax\n",
    "    exponenZ = np.exp(Z - np.max(Z))\n",
    "    A = exponenZ / exponenZ.sum(axis=0, keepdims=True)\n",
    "    simpan[\"A\" + str(L)] = A\n",
    "    simpan[\"W\" + str(L)] = parameter[\"W\" + str(L)]\n",
    "    simpan[\"Z\" + str(L)] = Z\n",
    "\n",
    "    y_hat = np.argmax(A, axis=0)\n",
    "    return y_hat"
   ]
  },
  {
   "cell_type": "code",
   "execution_count": 24,
   "metadata": {},
   "outputs": [],
   "source": [
    "def printProgressBar (iteration, total, prefix = '', suffix = '', decimals = 1, length = 100, fill = '█', printEnd = \"\\r\"):\n",
    "    percent = (\"{0:.\" + str(decimals) + \"f}\").format(100 * (iteration / float(total)))\n",
    "    filledLength = int(length * iteration // total)\n",
    "    bar = fill * filledLength + '-' * (length - filledLength)\n",
    "    print('\\r%s |%s| %s%% %s' % (prefix, bar, percent, suffix), end = printEnd)\n",
    "    if iteration == total-1: \n",
    "        print()\n"
   ]
  },
  {
   "cell_type": "code",
   "execution_count": 25,
   "metadata": {
    "scrolled": true
   },
   "outputs": [
    {
     "name": "stdout",
     "output_type": "stream",
     "text": [
      "( 0 / 200 ) loss :  0.034273418085365985 Train Accuracy :  91.03333333333333\n",
      "Progress: |█████████████████████████████████████████████████-| 99.0% Complete\n",
      "( 100 / 200 ) loss :  0.0277902649881199 Train Accuracy :  92.34833333333333\n",
      "Progress: |█████████████████████████████████████████████████-| 99.0% Complete\n"
     ]
    }
   ],
   "source": [
    "#Iterasi Pelatihan\n",
    "\n",
    "costs = []\n",
    "ulangAwal = 0\n",
    "ulangAkhir = 100\n",
    "for i in range(iterasi):\n",
    "    #Propagasi Maju\n",
    "    #buat variabel untuk menampung perhitungan perkalian\n",
    "    simpan = {}\n",
    "    \n",
    "    #buat transpose matrix data\n",
    "    A = train_x.T\n",
    "    #iterasi perhitungan silang data dengan bobot dan bias\n",
    "    for jj in range(L-1):\n",
    "        Z = parameter[\"W\" + str(jj+1)].dot(A) + parameter[\"b\" + str(jj + 1)]\n",
    "        #Sigmoid\n",
    "        A = 1 / (1 + np.exp(-Z))\n",
    "        simpan[\"A\" + str(jj + 1)] = A\n",
    "        simpan[\"W\" + str(jj + 1)] = parameter[\"W\" + str(jj + 1)]\n",
    "        simpan[\"Z\" + str(jj + 1)] = Z\n",
    "    \n",
    "    \n",
    "    Z = parameter[\"W\" + str(L)].dot(A) + parameter[\"b\" + str(L)]\n",
    "    #Softmax\n",
    "    exponenZ = np.exp(Z - np.max(Z))\n",
    "    A = exponenZ / exponenZ.sum(axis=0, keepdims=True)\n",
    "    simpan[\"A\" + str(L)] = A\n",
    "    simpan[\"W\" + str(L)] = parameter[\"W\" + str(L)]\n",
    "    simpan[\"Z\" + str(L)] = Z\n",
    "\n",
    "    \n",
    "    #Hitung Error Cost\n",
    "    cost = -np.mean(train_y * np.log(A.T))\n",
    "    \n",
    "    #Propagasi balik\n",
    "    derivative = {}\n",
    "    simpan[\"A0\"] = train_x.T\n",
    "    A = simpan[\"A\" + str(L)]\n",
    "    dZ = A - train_y.T\n",
    "\n",
    "    dW = dZ.dot(simpan[\"A\" + str(L - 1)].T) / n\n",
    "    db = np.sum(dZ, axis=1, keepdims=True) / n\n",
    "    dAPrev = simpan[\"W\" + str(L)].T.dot(dZ)\n",
    "    \n",
    "    derivative[\"dW\" + str(L)] = dW\n",
    "    derivative[\"db\" + str(L)] = db\n",
    "    \n",
    "    for j in range(L - 1, 0, -1):\n",
    "        s = 1 / (1 + np.exp(simpan[\"Z\" + str(j)]))\n",
    "        dZ = dAPrev * (s * (1 - s))\n",
    "        dW = 1. / n * dZ.dot(simpan[\"A\" + str(j -1)].T)\n",
    "        db = 1. / n * np.sum(dZ, axis=1, keepdims=True)\n",
    "        \n",
    "        if j > 1:\n",
    "            dAPrev = simpan[\"W\" + str(j)].T.dot(dZ)\n",
    "        \n",
    "        derivative[\"dW\" + str(j)] = dW\n",
    "        derivative[\"db\" + str(j)] = db\n",
    "    \n",
    "    \n",
    "    #Update bobot\n",
    "    for jj in range(1, L + 1):\n",
    "        parameter[\"W\" + str(jj)] = parameter[\"W\" + str(jj)] - lr * derivative[\"dW\" + str(jj)]\n",
    "        parameter[\"b\" + str(jj)] = parameter[\"b\" + str(jj)] - lr * derivative[\"db\" + str(jj)]\n",
    "    \n",
    "    ulangAwal = ulangAwal + 1\n",
    "    if i % 100 == 0:\n",
    "        ulangAwal = 0\n",
    "        ulangAkhir = 100\n",
    "        print( \"(\",(i),\"/\",iterasi,\")\", \"loss : \", cost, \"Train Accuracy : \", akurasi(train_x, train_y))\n",
    "        \n",
    "    if i % 10 == 0:\n",
    "        costs.append(cost)\n",
    "    \n",
    "    printProgressBar(ulangAwal, ulangAkhir, prefix = 'Progress:', suffix = 'Complete', length = 50)\n",
    "    \n"
   ]
  },
  {
   "cell_type": "code",
   "execution_count": 26,
   "metadata": {},
   "outputs": [
    {
     "name": "stdout",
     "output_type": "stream",
     "text": [
      "Train Accuracy: 93.79333333333332\n",
      "Test Accuracy: 93.34\n"
     ]
    },
    {
     "data": {
      "image/png": "[encoded data removed]",
      "text/plain": [
       "<Figure size 432x288 with 1 Axes>"
      ]
     },
     "metadata": {
      "needs_background": "light"
     },
     "output_type": "display_data"
    }
   ],
   "source": [
    "print(\"Train Accuracy:\", akurasi(train_x, train_y))\n",
    "print(\"Test Accuracy:\", akurasi(test_x, test_y))\n",
    "\n",
    "#PLOT EPOCH DENGAN TRAINING DAN TESTING BELUM\n",
    "plt.figure()\n",
    "plt.plot(np.arange(len(costs)), costs)\n",
    "plt.xlabel(\"epochs\")\n",
    "plt.ylabel(\"cost\")\n",
    "plt.show()"
   ]
  },
  {
   "cell_type": "code",
   "execution_count": 27,
   "metadata": {},
   "outputs": [
    {
     "name": "stdout",
     "output_type": "stream",
     "text": [
      "Hasil prediksi :  7\n",
      "Jawaban dari test_y :  [0. 0. 0. 0. 0. 0. 0. 1. 0. 0.]\n"
     ]
    },
    {
     "data": {
      "image/png": "[encoded data removed]",
      "text/plain": [
       "<Figure size 432x288 with 1 Axes>"
      ]
     },
     "metadata": {
      "needs_background": "light"
     },
     "output_type": "display_data"
    }
   ],
   "source": [
    "index = 0\n",
    "hasil = prediksi(test_x)\n",
    "\n",
    "print(\"Hasil prediksi : \" , hasil[index])\n",
    "print(\"Jawaban dari test_y : \" , test_y[index])\n",
    "plt.imshow(test_x[index].reshape((28,28)))\n",
    "plt.show()"
   ]
  },
  {
   "cell_type": "code",
   "execution_count": null,
   "metadata": {},
   "outputs": [],
   "source": []
  },
  {
   "cell_type": "code",
   "execution_count": null,
   "metadata": {},
   "outputs": [],
   "source": []
  },
  {
   "cell_type": "code",
   "execution_count": null,
   "metadata": {},
   "outputs": [],
   "source": []
  },
  {
   "cell_type": "code",
   "execution_count": null,
   "metadata": {},
   "outputs": [],
   "source": []
  },
  {
   "cell_type": "code",
   "execution_count": null,
   "metadata": {},
   "outputs": [],
   "source": []
  },
  {
   "cell_type": "code",
   "execution_count": null,
   "metadata": {},
   "outputs": [],
   "source": []
  }
 ],
 "metadata": {
  "kernelspec": {
   "display_name": "Python 3",
   "language": "python",
   "name": "python3"
  },
  "language_info": {
   "codemirror_mode": {
    "name": "ipython",
    "version": 3
   },
   "file_extension": ".py",
   "mimetype": "text/x-python",
   "name": "python",
   "nbconvert_exporter": "python",
   "pygments_lexer": "ipython3",
   "version": "3.7.7"
  }
 },
 "nbformat": 4,
 "nbformat_minor": 2
}
